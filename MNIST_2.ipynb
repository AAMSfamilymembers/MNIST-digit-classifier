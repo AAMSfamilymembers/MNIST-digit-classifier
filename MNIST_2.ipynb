{
 "cells": [
  {
   "cell_type": "code",
   "execution_count": 77,
   "metadata": {},
   "outputs": [],
   "source": [
    "import numpy as np\n",
    "import matplotlib.pyplot as plt\n",
    "import idx2numpy\n",
    "from PIL import Image\n"
   ]
  },
  {
   "cell_type": "code",
   "execution_count": 78,
   "metadata": {},
   "outputs": [
    {
     "name": "stdout",
     "output_type": "stream",
     "text": [
      "[0 0 0 1 0 0 0 0 0 0]\n"
     ]
    },
    {
     "data": {
      "image/png": "[encoded data removed]",
      "text/plain": [
       "<Figure size 432x288 with 1 Axes>"
      ]
     },
     "metadata": {
      "needs_background": "light"
     },
     "output_type": "display_data"
    }
   ],
   "source": [
    "train_image_file_X = '/home/abhay/DL/MNIST/raw/train-images-idx3-ubyte'\n",
    "train_image_file_Y = '/home/abhay/DL/MNIST/raw/train-labels-idx1-ubyte'\n",
    "test_image_file_X = '/home/abhay/DL/MNIST/raw/t10k-images-idx3-ubyte'\n",
    "test_image_file_Y = '/home/abhay/DL/MNIST/raw/t10k-labels-idx1-ubyte'\n",
    "X_train = idx2numpy.convert_from_file(train_image_file_X)\n",
    "Y_train = idx2numpy.convert_from_file(train_image_file_Y)[:,None].T\n",
    "X_test = idx2numpy.convert_from_file(test_image_file_X)\n",
    "Y_test = idx2numpy.convert_from_file(test_image_file_Y)[:,None].T\n",
    "\n",
    "Y_train = np.repeat(Y_train,10,axis = 0)\n",
    "j = np.arange(10)[:,None]\n",
    "c = Y_train==j\n",
    "Y_train=c.astype('uint8')\n",
    "\n",
    "Y_test = np.repeat(Y_test,10,axis = 0)\n",
    "j = np.arange(10)[:,None]\n",
    "c = Y_test==j\n",
    "Y_test=c.astype('uint8')\n",
    "\n",
    "img = X_train[500]\n",
    "plt.imshow(img,cmap ='gray')\n",
    "print(Y_train[:,500])"
   ]
  },
  {
   "cell_type": "code",
   "execution_count": 79,
   "metadata": {},
   "outputs": [
    {
     "name": "stdout",
     "output_type": "stream",
     "text": [
      "(784, 60000) (784, 10000) (10, 10000) (10, 60000)\n"
     ]
    }
   ],
   "source": [
    "X_train_flatten = X_train.reshape((X_train.shape[0],-1)).T\n",
    "X_test_flatten = X_test.reshape((X_test.shape[0],-1)).T\n",
    "print(X_train_flatten.shape,X_test_flatten.shape,Y_test.shape,Y_train.shape)\n",
    "layers_dims = [784, 512, 256, 128, 10]"
   ]
  },
  {
   "cell_type": "code",
   "execution_count": 80,
   "metadata": {},
   "outputs": [],
   "source": [
    "X = X_train_flatten/255\n",
    "test_X = X_test_flatten/255"
   ]
  },
  {
   "cell_type": "code",
   "execution_count": 81,
   "metadata": {},
   "outputs": [],
   "source": [
    "def sigmoid(z):\n",
    "    return 1/(1 + np.exp(-z))"
   ]
  },
  {
   "cell_type": "code",
   "execution_count": 82,
   "metadata": {},
   "outputs": [],
   "source": [
    "def relu(z):\n",
    "    return np.where(z > 0 , z , 0)"
   ]
  },
  {
   "cell_type": "code",
   "execution_count": 83,
   "metadata": {},
   "outputs": [],
   "source": [
    "def gradient(z , activation = \"relu\"):\n",
    "    if activation == \"relu\":\n",
    "        g = np.where(z > 0 , 1 , 0)\n",
    "    else:\n",
    "        g = sigmoid(z) * (1 - sigmoid(z))\n",
    "    return g"
   ]
  },
  {
   "cell_type": "code",
   "execution_count": 84,
   "metadata": {},
   "outputs": [],
   "source": [
    "def initialize(layer_dims):\n",
    "    parameters = {}\n",
    "    \n",
    "    for l in range(1,len(layer_dims)):\n",
    "        #Xavier's initialization\n",
    "        parameters['W' + str(l)] = np.random.randn(layer_dims[l],layer_dims[l-1]) * np.sqrt(2/(layer_dims[l] + layer_dims[l-1]))\n",
    "        parameters['b' + str(l)] = np.zeros((layer_dims[l],1))\n",
    "    return parameters"
   ]
  },
  {
   "cell_type": "code",
   "execution_count": 85,
   "metadata": {},
   "outputs": [],
   "source": [
    "def calculate_cost(A , Y):\n",
    "    loss = -(Y * np.log(A) + (1 - Y) * np.log(1 - A))\n",
    "    m = Y.shape[1]\n",
    "    cost= (1/m) * np.sum(loss)\n",
    "    return(cost)"
   ]
  },
  {
   "cell_type": "code",
   "execution_count": 86,
   "metadata": {},
   "outputs": [],
   "source": [
    "def forward_prop(X , parameters , layer_dims):\n",
    "    #m = X.shape[1]\n",
    "    cache = {}\n",
    "    A = X\n",
    "    cache[\"A0\"] = X\n",
    "    for i in range(1,len(layer_dims)):\n",
    "        W = parameters['W' + str(i)]\n",
    "        b = parameters['b' + str(i)]\n",
    "        Z = np.dot(W , A) + b\n",
    "        if i == len(layer_dims)-1:\n",
    "            A = sigmoid(Z)\n",
    "            \n",
    "        else:\n",
    "            A = relu(Z)\n",
    "        cache['A' + str(i)] = A\n",
    "        cache['Z' + str(i)] = Z\n",
    "    \n",
    "    return A,cache"
   ]
  },
  {
   "cell_type": "code",
   "execution_count": 87,
   "metadata": {},
   "outputs": [],
   "source": [
    "def back_prop(X , Y , parameters , cache):\n",
    "    m = X.shape[1]\n",
    "    grad = {}\n",
    "    L = len(parameters) // 2\n",
    "    A_l = cache['A' + str(L)]\n",
    "    dz = A_l - Y\n",
    "    for i in range(L-1, -1, -1):\n",
    "        A_l = cache['A' + str(i)]\n",
    "        grad['dW' + str(i + 1)] = (1/m) * np.dot(dz , A_l.T)\n",
    "        grad['db' + str(i + 1)] = (1/m) * np.sum(dz ,axis = 1 , keepdims = True)\n",
    "        W = parameters['W' + str(i+1)]\n",
    "        if i is not 0:\n",
    "            z = cache['Z' + str(i)]\n",
    "            if i == L - 1:\n",
    "                dz_ = np.dot(W.T , dz) * gradient(z , activation = \"sigmoid\")\n",
    "                dz = dz_\n",
    "            else:\n",
    "                dz_ = np.dot(W.T , dz) * gradient(z , activation = \"relu\")\n",
    "                dz = dz_\n",
    "        else:\n",
    "            pass\n",
    "    return grad"
   ]
  },
  {
   "cell_type": "code",
   "execution_count": 88,
   "metadata": {},
   "outputs": [],
   "source": [
    "def predict_train(X ,parameters,Y , layers_dims):\n",
    "    A,cache = forward_prop(X ,parameters , layers_dims)\n",
    "    predict = np.where(A >=0.5 ,1,0)\n",
    "    accuracy = np.mean(predict==Y)*100\n",
    "    return predict,accuracy"
   ]
  },
  {
   "cell_type": "code",
   "execution_count": 102,
   "metadata": {},
   "outputs": [],
   "source": [
    "def nn_model(X, Y, layers_dims, learning_rate, num_iterations):\n",
    "    m = X.shape[1]\n",
    "    parameters = {}\n",
    "    cache = {}\n",
    "    grads = {}\n",
    "    costs = []\n",
    "    cost = []\n",
    "    accuracy = []\n",
    "    parameters = initialize(layers_dims)\n",
    "    for i in range(num_iterations):\n",
    "        A , cache = forward_prop(X , parameters , layers_dims)\n",
    "        cost = calculate_cost(A , Y)\n",
    "        grads = back_prop(X , Y , parameters , cache)\n",
    "        \n",
    "        for l in range(1 , len(layers_dims)):\n",
    "            parameters['W' + str(l)] = parameters['W' + str(l)] - learning_rate * grads['dW' + str(l)]\n",
    "            parameters['b' + str(l)] = parameters['b' + str(l)] - learning_rate * grads['db' + str(l)]\n",
    "        learning_rate = 0.995 * learning_rate\n",
    "        if i % 10 == 0:\n",
    "            print (\"Cost after iteration %i: %f\" %(i, cost))\n",
    "        if i % 10 == 0:\n",
    "            costs.append(cost)\n",
    "            yhat,acc = predict_train(X , parameters,Y_train , layers_dims)\n",
    "            accuracy.append(acc)\n",
    "            print(\"Accuracy after\",i,\"Iterations is \",acc)\n",
    "            \n",
    "    # plot the cost\n",
    "    plt.plot(np.squeeze(costs))\n",
    "    plt.ylabel('cost')\n",
    "    plt.xlabel('iterations (per hundreds)')\n",
    "    plt.title(\"Learning rate =\" + str(learning_rate))\n",
    "    plt.show()\n",
    "    \n",
    "    return parameters"
   ]
  },
  {
   "cell_type": "code",
   "execution_count": 103,
   "metadata": {
    "scrolled": false
   },
   "outputs": [
    {
     "name": "stdout",
     "output_type": "stream",
     "text": [
      "Cost after iteration 0: 7.212514\n",
      "Accuracy after 0 Iterations is  88.61866666666667\n",
      "Cost after iteration 10: 3.198963\n",
      "Accuracy after 10 Iterations is  90.0\n",
      "Cost after iteration 20: 3.037401\n",
      "Accuracy after 20 Iterations is  90.0\n",
      "Cost after iteration 30: 2.839522\n",
      "Accuracy after 30 Iterations is  90.0\n",
      "Cost after iteration 40: 2.606189\n",
      "Accuracy after 40 Iterations is  90.00366666666667\n",
      "Cost after iteration 50: 2.364230\n",
      "Accuracy after 50 Iterations is  90.60216666666666\n",
      "Cost after iteration 60: 2.144974\n",
      "Accuracy after 60 Iterations is  91.85\n",
      "Cost after iteration 70: 1.963629\n",
      "Accuracy after 70 Iterations is  92.7195\n",
      "Cost after iteration 80: 1.819404\n",
      "Accuracy after 80 Iterations is  93.32383333333333\n",
      "Cost after iteration 90: 1.704649\n",
      "Accuracy after 90 Iterations is  93.83283333333333\n",
      "Cost after iteration 100: 1.611740\n",
      "Accuracy after 100 Iterations is  94.24566666666666\n",
      "Cost after iteration 110: 1.534944\n",
      "Accuracy after 110 Iterations is  94.56933333333333\n",
      "Cost after iteration 120: 1.470341\n",
      "Accuracy after 120 Iterations is  94.82816666666668\n",
      "Cost after iteration 130: 1.415190\n",
      "Accuracy after 130 Iterations is  95.029\n",
      "Cost after iteration 140: 1.367557\n",
      "Accuracy after 140 Iterations is  95.2215\n",
      "Cost after iteration 150: 1.326053\n",
      "Accuracy after 150 Iterations is  95.38566666666667\n",
      "Cost after iteration 160: 1.289600\n",
      "Accuracy after 160 Iterations is  95.5345\n",
      "Cost after iteration 170: 1.257359\n",
      "Accuracy after 170 Iterations is  95.66900000000001\n",
      "Cost after iteration 180: 1.228682\n",
      "Accuracy after 180 Iterations is  95.79316666666666\n",
      "Cost after iteration 190: 1.203040\n",
      "Accuracy after 190 Iterations is  95.90316666666666\n",
      "Cost after iteration 200: 1.180003\n",
      "Accuracy after 200 Iterations is  96.00066666666666\n",
      "Cost after iteration 210: 1.159216\n",
      "Accuracy after 210 Iterations is  96.087\n",
      "Cost after iteration 220: 1.140385\n",
      "Accuracy after 220 Iterations is  96.16766666666666\n",
      "Cost after iteration 230: 1.123259\n",
      "Accuracy after 230 Iterations is  96.2395\n",
      "Cost after iteration 240: 1.107627\n",
      "Accuracy after 240 Iterations is  96.30916666666667\n",
      "Cost after iteration 250: 1.093314\n",
      "Accuracy after 250 Iterations is  96.37633333333333\n",
      "Cost after iteration 260: 1.080165\n",
      "Accuracy after 260 Iterations is  96.43716666666666\n",
      "Cost after iteration 270: 1.068059\n",
      "Accuracy after 270 Iterations is  96.4855\n",
      "Cost after iteration 280: 1.056901\n",
      "Accuracy after 280 Iterations is  96.531\n",
      "Cost after iteration 290: 1.046595\n",
      "Accuracy after 290 Iterations is  96.57233333333333\n",
      "Cost after iteration 300: 1.037054\n",
      "Accuracy after 300 Iterations is  96.60766666666667\n",
      "Cost after iteration 310: 1.028204\n",
      "Accuracy after 310 Iterations is  96.65066666666667\n",
      "Cost after iteration 320: 1.019985\n",
      "Accuracy after 320 Iterations is  96.68566666666666\n",
      "Cost after iteration 330: 1.012338\n",
      "Accuracy after 330 Iterations is  96.71783333333333\n",
      "Cost after iteration 340: 1.005218\n",
      "Accuracy after 340 Iterations is  96.746\n",
      "Cost after iteration 350: 0.998578\n",
      "Accuracy after 350 Iterations is  96.77466666666666\n",
      "Cost after iteration 360: 0.992377\n",
      "Accuracy after 360 Iterations is  96.8\n",
      "Cost after iteration 370: 0.986582\n",
      "Accuracy after 370 Iterations is  96.82516666666666\n",
      "Cost after iteration 380: 0.981157\n",
      "Accuracy after 380 Iterations is  96.84899999999999\n",
      "Cost after iteration 390: 0.976074\n",
      "Accuracy after 390 Iterations is  96.87033333333333\n",
      "Cost after iteration 400: 0.971310\n",
      "Accuracy after 400 Iterations is  96.8895\n",
      "Cost after iteration 410: 0.966839\n",
      "Accuracy after 410 Iterations is  96.90916666666666\n",
      "Cost after iteration 420: 0.962642\n",
      "Accuracy after 420 Iterations is  96.92833333333334\n",
      "Cost after iteration 430: 0.958697\n",
      "Accuracy after 430 Iterations is  96.94316666666667\n",
      "Cost after iteration 440: 0.954988\n",
      "Accuracy after 440 Iterations is  96.9565\n",
      "Cost after iteration 450: 0.951498\n",
      "Accuracy after 450 Iterations is  96.97133333333333\n",
      "Cost after iteration 460: 0.948214\n",
      "Accuracy after 460 Iterations is  96.98433333333332\n",
      "Cost after iteration 470: 0.945121\n",
      "Accuracy after 470 Iterations is  96.99883333333334\n",
      "Cost after iteration 480: 0.942207\n",
      "Accuracy after 480 Iterations is  97.00816666666667\n",
      "Cost after iteration 490: 0.939459\n",
      "Accuracy after 490 Iterations is  97.0215\n",
      "Cost after iteration 500: 0.936868\n",
      "Accuracy after 500 Iterations is  97.03033333333333\n",
      "Cost after iteration 510: 0.934424\n",
      "Accuracy after 510 Iterations is  97.03916666666666\n",
      "Cost after iteration 520: 0.932117\n",
      "Accuracy after 520 Iterations is  97.04650000000001\n",
      "Cost after iteration 530: 0.929937\n",
      "Accuracy after 530 Iterations is  97.05516666666666\n",
      "Cost after iteration 540: 0.927878\n",
      "Accuracy after 540 Iterations is  97.06433333333334\n",
      "Cost after iteration 550: 0.925932\n",
      "Accuracy after 550 Iterations is  97.07166666666667\n",
      "Cost after iteration 560: 0.924092\n",
      "Accuracy after 560 Iterations is  97.07716666666667\n",
      "Cost after iteration 570: 0.922352\n",
      "Accuracy after 570 Iterations is  97.084\n",
      "Cost after iteration 580: 0.920706\n",
      "Accuracy after 580 Iterations is  97.08716666666668\n",
      "Cost after iteration 590: 0.919148\n",
      "Accuracy after 590 Iterations is  97.09316666666666\n",
      "Cost after iteration 600: 0.917673\n",
      "Accuracy after 600 Iterations is  97.0995\n",
      "Cost after iteration 610: 0.916277\n",
      "Accuracy after 610 Iterations is  97.107\n",
      "Cost after iteration 620: 0.914955\n",
      "Accuracy after 620 Iterations is  97.11166666666666\n",
      "Cost after iteration 630: 0.913703\n",
      "Accuracy after 630 Iterations is  97.11733333333333\n",
      "Cost after iteration 640: 0.912517\n",
      "Accuracy after 640 Iterations is  97.12283333333333\n",
      "Cost after iteration 650: 0.911393\n",
      "Accuracy after 650 Iterations is  97.12733333333333\n",
      "Cost after iteration 660: 0.910328\n",
      "Accuracy after 660 Iterations is  97.13333333333334\n",
      "Cost after iteration 670: 0.909318\n",
      "Accuracy after 670 Iterations is  97.1375\n",
      "Cost after iteration 680: 0.908360\n",
      "Accuracy after 680 Iterations is  97.14150000000001\n",
      "Cost after iteration 690: 0.907452\n",
      "Accuracy after 690 Iterations is  97.14533333333333\n",
      "Cost after iteration 700: 0.906591\n",
      "Accuracy after 700 Iterations is  97.14866666666667\n",
      "Cost after iteration 710: 0.905774\n",
      "Accuracy after 710 Iterations is  97.15116666666667\n",
      "Cost after iteration 720: 0.905000\n",
      "Accuracy after 720 Iterations is  97.15383333333332\n",
      "Cost after iteration 730: 0.904265\n",
      "Accuracy after 730 Iterations is  97.15666666666667\n",
      "Cost after iteration 740: 0.903568\n",
      "Accuracy after 740 Iterations is  97.16016666666667\n",
      "Cost after iteration 750: 0.902906\n",
      "Accuracy after 750 Iterations is  97.16133333333333\n",
      "Cost after iteration 760: 0.902278\n",
      "Accuracy after 760 Iterations is  97.16266666666667\n",
      "Cost after iteration 770: 0.901682\n",
      "Accuracy after 770 Iterations is  97.16550000000001\n",
      "Cost after iteration 780: 0.901117\n",
      "Accuracy after 780 Iterations is  97.16683333333333\n",
      "Cost after iteration 790: 0.900580\n",
      "Accuracy after 790 Iterations is  97.16900000000001\n",
      "Cost after iteration 800: 0.900070\n",
      "Accuracy after 800 Iterations is  97.172\n",
      "Cost after iteration 810: 0.899586\n",
      "Accuracy after 810 Iterations is  97.17333333333333\n",
      "Cost after iteration 820: 0.899126\n",
      "Accuracy after 820 Iterations is  97.17533333333334\n",
      "Cost after iteration 830: 0.898690\n",
      "Accuracy after 830 Iterations is  97.177\n",
      "Cost after iteration 840: 0.898275\n",
      "Accuracy after 840 Iterations is  97.17716666666666\n",
      "Cost after iteration 850: 0.897881\n",
      "Accuracy after 850 Iterations is  97.17866666666667\n",
      "Cost after iteration 860: 0.897507\n",
      "Accuracy after 860 Iterations is  97.17983333333333\n",
      "Cost after iteration 870: 0.897152\n",
      "Accuracy after 870 Iterations is  97.18133333333333\n",
      "Cost after iteration 880: 0.896814\n",
      "Accuracy after 880 Iterations is  97.18233333333333\n",
      "Cost after iteration 890: 0.896494\n",
      "Accuracy after 890 Iterations is  97.18433333333333\n",
      "Cost after iteration 900: 0.896189\n",
      "Accuracy after 900 Iterations is  97.18516666666666\n",
      "Cost after iteration 910: 0.895899\n",
      "Accuracy after 910 Iterations is  97.18716666666667\n",
      "Cost after iteration 920: 0.895624\n",
      "Accuracy after 920 Iterations is  97.188\n",
      "Cost after iteration 930: 0.895362\n",
      "Accuracy after 930 Iterations is  97.18933333333334\n",
      "Cost after iteration 940: 0.895114\n",
      "Accuracy after 940 Iterations is  97.19066666666667\n",
      "Cost after iteration 950: 0.894878\n",
      "Accuracy after 950 Iterations is  97.19233333333334\n",
      "Cost after iteration 960: 0.894653\n",
      "Accuracy after 960 Iterations is  97.19333333333333\n",
      "Cost after iteration 970: 0.894440\n",
      "Accuracy after 970 Iterations is  97.19383333333333\n"
     ]
    },
    {
     "name": "stdout",
     "output_type": "stream",
     "text": [
      "Cost after iteration 980: 0.894237\n",
      "Accuracy after 980 Iterations is  97.19433333333333\n",
      "Cost after iteration 990: 0.894044\n",
      "Accuracy after 990 Iterations is  97.19466666666666\n"
     ]
    },
    {
     "data": {
      "image/png": "[encoded data removed]",
      "text/plain": [
       "<Figure size 432x288 with 1 Axes>"
      ]
     },
     "metadata": {
      "needs_background": "light"
     },
     "output_type": "display_data"
    }
   ],
   "source": [
    "parameters = nn_model(X, Y_train, layers_dims , 0.1 , num_iterations = 1000)"
   ]
  },
  {
   "cell_type": "code",
   "execution_count": 334,
   "metadata": {},
   "outputs": [
    {
     "name": "stdout",
     "output_type": "stream",
     "text": [
      "[0 1 0 0 0 0 0 0 0 0] 97.316\n"
     ]
    }
   ],
   "source": [
    "Y,accuracy = predict_train(test_X ,parameters,Y_test , layers_dims)\n",
    "print(Y[:,700],accuracy)\n",
    "parameters0 = parameters\n",
    "r = {}\n",
    "W1 = parameters['W1']\n",
    "W2 = parameters['W2']\n",
    "W3 = parameters['W3']\n",
    "W4 = parameters['W4']\n",
    "b1 = parameters['b1']\n",
    "b2 = parameters['b2']\n",
    "b3 = parameters['b3']\n",
    "b4 = parameters['b4']\n",
    "\n",
    "np.save('W1.npy',W1)\n",
    "np.save('W2.npy',W2)\n",
    "np.save('W3.npy',W3)\n",
    "np.save('W4.npy',W4)\n",
    "np.save('b1.npy',b1)\n",
    "np.save('b2.npy',b2)\n",
    "np.save('b3.npy',b3)\n",
    "np.save('b4.npy',b4)\n",
    "\n",
    "\n",
    "\n",
    "W1 = np.load('/home/abhay/DL/MNIST/W1.npy')\n",
    "W2 = np.load('/home/abhay/DL/MNIST/W2.npy')\n",
    "W3 = np.load('/home/abhay/DL/MNIST/W3.npy')\n",
    "W4 = np.load('/home/abhay/DL/MNIST/W4.npy')\n",
    "b1 = np.load('/home/abhay/DL/MNIST/b1.npy')\n",
    "b2 = np.load('/home/abhay/DL/MNIST/b2.npy')\n",
    "b3 = np.load('/home/abhay/DL/MNIST/b3.npy')\n",
    "b4 = np.load('/home/abhay/DL/MNIST/b4.npy')\n",
    "\n",
    "r['W1'] = W1\n",
    "r['b1'] = b1\n",
    "r['W2'] = W2\n",
    "r['b2'] = b2\n",
    "r['W3'] = W3\n",
    "r['b3'] = b3\n",
    "r['W4'] = W4\n",
    "r['b4'] = b4"
   ]
  },
  {
   "cell_type": "code",
   "execution_count": 323,
   "metadata": {},
   "outputs": [
    {
     "name": "stdout",
     "output_type": "stream",
     "text": [
      "(28, 28)\n",
      "[0 1 0 0 0 0 0 0 0 0]\n"
     ]
    },
    {
     "data": {
      "image/png": "[encoded data removed]",
      "text/plain": [
       "<Figure size 432x288 with 1 Axes>"
      ]
     },
     "metadata": {
      "needs_background": "light"
     },
     "output_type": "display_data"
    }
   ],
   "source": [
    "img = X_test[7000]\n",
    "print(img.shape)\n",
    "plt.imshow(img,cmap ='gray')\n",
    "print(Y_test[:,7000])"
   ]
  },
  {
   "cell_type": "code",
   "execution_count": 324,
   "metadata": {},
   "outputs": [
    {
     "data": {
      "image/png": "[encoded data removed]",
      "text/plain": [
       "<Figure size 432x288 with 1 Axes>"
      ]
     },
     "metadata": {
      "needs_background": "light"
     },
     "output_type": "display_data"
    },
    {
     "name": "stdout",
     "output_type": "stream",
     "text": [
      "It is a :  3\n"
     ]
    }
   ],
   "source": [
    "index = 9501\n",
    "#print()\n",
    "x = X_test[index].reshape(784,1)\n",
    "im = x.reshape(28,28)\n",
    "plt.imshow(im)\n",
    "plt.show()\n",
    "A,cache = forward_prop(test_X[:,index].reshape(784,1) ,parameters , layers_dims)\n",
    "predict = np.where(A >=0.5 ,1,0)\n",
    "print(\"It is a : \",np.argmax(predict))"
   ]
  },
  {
   "cell_type": "code",
   "execution_count": 325,
   "metadata": {},
   "outputs": [],
   "source": [
    "#def draw"
   ]
  },
  {
   "cell_type": "code",
   "execution_count": 326,
   "metadata": {},
   "outputs": [],
   "source": [
    "import cv2\n",
    "import numpy as np"
   ]
  },
  {
   "cell_type": "code",
   "execution_count": 327,
   "metadata": {},
   "outputs": [],
   "source": [
    "def begueradj_draw(event,former_x,former_y,flags,param):\n",
    "    global current_former_x,current_former_y,drawing, mode\n",
    "\n",
    "    if event==cv2.EVENT_LBUTTONDOWN:\n",
    "        drawing=True\n",
    "        current_former_x,current_former_y=former_x,former_y\n",
    "\n",
    "    elif event==cv2.EVENT_MOUSEMOVE:\n",
    "        if drawing==True:\n",
    "            if mode==True:\n",
    "                cv2.line(im,(current_former_x,current_former_y),(former_x,former_y),(255,255,255),90)\n",
    "                current_former_x = former_x\n",
    "                current_former_y = former_y\n",
    "                #print former_x,former_y\n",
    "    elif event==cv2.EVENT_LBUTTONUP:\n",
    "        drawing=False\n",
    "        if mode==True:\n",
    "            cv2.line(im,(current_former_x,current_former_y),(former_x,former_y),(255,255,255),90)\n",
    "            current_former_x = former_x\n",
    "            current_former_y = former_y\n",
    "    return former_x,former_y    \n",
    "\n",
    "\n",
    "\n",
    "\n"
   ]
  },
  {
   "cell_type": "code",
   "execution_count": 328,
   "metadata": {},
   "outputs": [],
   "source": [
    "im = np.zeros((512,512), np.uint8)\n",
    "cv2.namedWindow('image')\n",
    "drawing = False\n",
    "mode = True\n",
    "cv2.setMouseCallback('image',begueradj_draw)\n",
    "while(1):\n",
    "    cv2.imshow('image',im)\n",
    "    k=cv2.waitKey(1)&0xFF\n",
    "    if k==27:\n",
    "        break\n",
    "cv2.destroyAllWindows()"
   ]
  },
  {
   "cell_type": "code",
   "execution_count": 329,
   "metadata": {},
   "outputs": [
    {
     "data": {
      "image/png": "[encoded data removed]",
      "text/plain": [
       "<Figure size 432x288 with 1 Axes>"
      ]
     },
     "metadata": {
      "needs_background": "light"
     },
     "output_type": "display_data"
    }
   ],
   "source": [
    "\n",
    "im_resize = cv2.resize(im,(28,28))\n",
    "plt.imshow(im_resize)\n",
    "plt.show()"
   ]
  },
  {
   "cell_type": "code",
   "execution_count": 330,
   "metadata": {},
   "outputs": [],
   "source": [
    "im_reshape = im_resize.reshape((784,1))"
   ]
  },
  {
   "cell_type": "code",
   "execution_count": 331,
   "metadata": {},
   "outputs": [
    {
     "name": "stdout",
     "output_type": "stream",
     "text": [
      "(784, 1)\n"
     ]
    }
   ],
   "source": [
    "print(im_reshape.shape)"
   ]
  },
  {
   "cell_type": "code",
   "execution_count": 332,
   "metadata": {},
   "outputs": [
    {
     "name": "stdout",
     "output_type": "stream",
     "text": [
      "It is a :  2\n"
     ]
    }
   ],
   "source": [
    "A,cache = forward_prop(im_reshape, parameters , layers_dims)\n",
    "predict = np.where(A >=0.5 ,1,0)\n",
    "print(\"It is a : \",np.argmax(predict))"
   ]
  },
  {
   "cell_type": "code",
   "execution_count": null,
   "metadata": {},
   "outputs": [],
   "source": []
  },
  {
   "cell_type": "code",
   "execution_count": null,
   "metadata": {},
   "outputs": [],
   "source": []
  }
 ],
 "metadata": {
  "kernelspec": {
   "display_name": "Python 3",
   "language": "python",
   "name": "python3"
  },
  "language_info": {
   "codemirror_mode": {
    "name": "ipython",
    "version": 3
   },
   "file_extension": ".py",
   "mimetype": "text/x-python",
   "name": "python",
   "nbconvert_exporter": "python",
   "pygments_lexer": "ipython3",
   "version": "3.7.3"
  }
 },
 "nbformat": 4,
 "nbformat_minor": 2
}
